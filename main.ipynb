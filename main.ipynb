{
  "cells": [
    {
      "attachments": {},
      "cell_type": "markdown",
      "metadata": {
        "id": "cfDF2eu7zbk7"
      },
      "source": [
        "# Importações\n"
      ]
    },
    {
      "cell_type": "code",
      "execution_count": 10,
      "metadata": {
        "id": "8Y5eN2A5WX67"
      },
      "outputs": [],
      "source": [
        "#x = 0\n",
        "#if x == 1 :\n",
        "  #!pip install scikit-optimize\n",
        "  #!pip install catboost\n",
        " #!pip install category_encoders"
      ]
    },
    {
      "cell_type": "code",
      "execution_count": 11,
      "metadata": {
        "id": "lXzJf-ryx26z"
      },
      "outputs": [],
      "source": [
        "import pandas as pd\n",
        "import numpy as np\n",
        "import matplotlib.pyplot as plt\n",
        "from skopt import BayesSearchCV\n",
        "from category_encoders import CatBoostEncoder\n",
        "from sklearn.model_selection import GridSearchCV\n",
        "from sklearn.preprocessing import OrdinalEncoder\n",
        "from sklearn.model_selection import cross_val_score\n",
        "from sklearn.model_selection import KFold\n",
        "from sklearn.metrics import accuracy_score, f1_score, precision_score, recall_score, roc_auc_score\n",
        "from xgboost import  XGBClassifier"
      ]
    },
    {
      "cell_type": "code",
      "execution_count": 12,
      "metadata": {
        "id": "ahWebe-6yqf_"
      },
      "outputs": [],
      "source": [
        "df_test = pd.read_csv('/test.csv')\n",
        "df_train = pd.read_csv('/train.csv')\n"
      ]
    },
    {
      "attachments": {},
      "cell_type": "markdown",
      "metadata": {
        "id": "8RvSMgL3U8mO"
      },
      "source": [
        "#Análise exploratória"
      ]
    },
    {
      "attachments": {},
      "cell_type": "markdown",
      "metadata": {
        "id": "E9iPLvZKFDmx"
      },
      "source": []
    },
    {
      "cell_type": "code",
      "execution_count": 13,
      "metadata": {
        "colab": {
          "base_uri": "https://localhost:8080/"
        },
        "id": "ppm1M8IWrkY3",
        "outputId": "5667daa3-82c5-4c89-fa81-2dc84b4f39f3"
      },
      "outputs": [
        {
          "name": "stdout",
          "output_type": "stream",
          "text": [
            "(17836, 12) (7644, 11)\n"
          ]
        }
      ],
      "source": [
        "print(df_train.shape,df_test.shape)"
      ]
    },
    {
      "cell_type": "code",
      "execution_count": 14,
      "metadata": {
        "colab": {
          "base_uri": "https://localhost:8080/",
          "height": 0
        },
        "id": "d8ux_jDIVXxH",
        "outputId": "add39481-277f-45a8-8cdb-e9a2f05c6780"
      },
      "outputs": [
        {
          "data": {
            "text/html": [
              "<div>\n",
              "<style scoped>\n",
              "    .dataframe tbody tr th:only-of-type {\n",
              "        vertical-align: middle;\n",
              "    }\n",
              "\n",
              "    .dataframe tbody tr th {\n",
              "        vertical-align: top;\n",
              "    }\n",
              "\n",
              "    .dataframe thead th {\n",
              "        text-align: right;\n",
              "    }\n",
              "</style>\n",
              "<table border=\"1\" class=\"dataframe\">\n",
              "  <thead>\n",
              "    <tr style=\"text-align: right;\">\n",
              "      <th></th>\n",
              "      <th>id_do_caso</th>\n",
              "      <th>continente</th>\n",
              "      <th>educacao_do_empregado</th>\n",
              "      <th>tem_experiencia_de_trabalho</th>\n",
              "      <th>requer_treinamento_de_trabalho</th>\n",
              "      <th>num_de_empregados</th>\n",
              "      <th>ano_de_estabelecimento</th>\n",
              "      <th>regiao_de_emprego</th>\n",
              "      <th>salario_prevalecente</th>\n",
              "      <th>unidade_de_salario</th>\n",
              "      <th>posicao_em_tempo_integral</th>\n",
              "      <th>status_do_caso</th>\n",
              "    </tr>\n",
              "  </thead>\n",
              "  <tbody>\n",
              "    <tr>\n",
              "      <th>0</th>\n",
              "      <td>EZYV10567</td>\n",
              "      <td>Europa</td>\n",
              "      <td>Ensino Médio</td>\n",
              "      <td>N</td>\n",
              "      <td>S</td>\n",
              "      <td>2087</td>\n",
              "      <td>1855</td>\n",
              "      <td>Sul</td>\n",
              "      <td>69711.24</td>\n",
              "      <td>Ano</td>\n",
              "      <td>S</td>\n",
              "      <td>Negado</td>\n",
              "    </tr>\n",
              "    <tr>\n",
              "      <th>1</th>\n",
              "      <td>EZYV5505</td>\n",
              "      <td>Ásia</td>\n",
              "      <td>Mestrado</td>\n",
              "      <td>S</td>\n",
              "      <td>N</td>\n",
              "      <td>5991</td>\n",
              "      <td>2003</td>\n",
              "      <td>Meio-Oeste</td>\n",
              "      <td>52931.38</td>\n",
              "      <td>Ano</td>\n",
              "      <td>S</td>\n",
              "      <td>Aprovado</td>\n",
              "    </tr>\n",
              "    <tr>\n",
              "      <th>2</th>\n",
              "      <td>EZYV5207</td>\n",
              "      <td>Ásia</td>\n",
              "      <td>Ensino Médio</td>\n",
              "      <td>N</td>\n",
              "      <td>N</td>\n",
              "      <td>1426</td>\n",
              "      <td>2000</td>\n",
              "      <td>Ilha</td>\n",
              "      <td>110830.21</td>\n",
              "      <td>Ano</td>\n",
              "      <td>S</td>\n",
              "      <td>Negado</td>\n",
              "    </tr>\n",
              "    <tr>\n",
              "      <th>3</th>\n",
              "      <td>EZYV7545</td>\n",
              "      <td>Ásia</td>\n",
              "      <td>Ensino Médio</td>\n",
              "      <td>N</td>\n",
              "      <td>N</td>\n",
              "      <td>3846</td>\n",
              "      <td>1992</td>\n",
              "      <td>Meio-Oeste</td>\n",
              "      <td>91884.68</td>\n",
              "      <td>Semana</td>\n",
              "      <td>S</td>\n",
              "      <td>Negado</td>\n",
              "    </tr>\n",
              "    <tr>\n",
              "      <th>4</th>\n",
              "      <td>EZYV16071</td>\n",
              "      <td>Ásia</td>\n",
              "      <td>Ensino Superior</td>\n",
              "      <td>S</td>\n",
              "      <td>N</td>\n",
              "      <td>3957</td>\n",
              "      <td>1949</td>\n",
              "      <td>Nordeste</td>\n",
              "      <td>138155.24</td>\n",
              "      <td>Ano</td>\n",
              "      <td>S</td>\n",
              "      <td>Aprovado</td>\n",
              "    </tr>\n",
              "  </tbody>\n",
              "</table>\n",
              "</div>"
            ],
            "text/plain": [
              "  id_do_caso continente educacao_do_empregado tem_experiencia_de_trabalho  \\\n",
              "0  EZYV10567     Europa          Ensino Médio                           N   \n",
              "1   EZYV5505       Ásia              Mestrado                           S   \n",
              "2   EZYV5207       Ásia          Ensino Médio                           N   \n",
              "3   EZYV7545       Ásia          Ensino Médio                           N   \n",
              "4  EZYV16071       Ásia       Ensino Superior                           S   \n",
              "\n",
              "  requer_treinamento_de_trabalho  num_de_empregados  ano_de_estabelecimento  \\\n",
              "0                              S               2087                    1855   \n",
              "1                              N               5991                    2003   \n",
              "2                              N               1426                    2000   \n",
              "3                              N               3846                    1992   \n",
              "4                              N               3957                    1949   \n",
              "\n",
              "  regiao_de_emprego  salario_prevalecente unidade_de_salario  \\\n",
              "0               Sul              69711.24                Ano   \n",
              "1        Meio-Oeste              52931.38                Ano   \n",
              "2              Ilha             110830.21                Ano   \n",
              "3        Meio-Oeste              91884.68             Semana   \n",
              "4          Nordeste             138155.24                Ano   \n",
              "\n",
              "  posicao_em_tempo_integral status_do_caso  \n",
              "0                         S         Negado  \n",
              "1                         S       Aprovado  \n",
              "2                         S         Negado  \n",
              "3                         S         Negado  \n",
              "4                         S       Aprovado  "
            ]
          },
          "execution_count": 14,
          "metadata": {},
          "output_type": "execute_result"
        }
      ],
      "source": [
        "df_train.head()"
      ]
    },
    {
      "cell_type": "code",
      "execution_count": 15,
      "metadata": {
        "colab": {
          "base_uri": "https://localhost:8080/",
          "height": 0
        },
        "id": "61uXTtCSVe6F",
        "outputId": "6dca8d17-6c54-4451-c39d-60ccdfa6e54d"
      },
      "outputs": [
        {
          "data": {
            "text/html": [
              "<div>\n",
              "<style scoped>\n",
              "    .dataframe tbody tr th:only-of-type {\n",
              "        vertical-align: middle;\n",
              "    }\n",
              "\n",
              "    .dataframe tbody tr th {\n",
              "        vertical-align: top;\n",
              "    }\n",
              "\n",
              "    .dataframe thead th {\n",
              "        text-align: right;\n",
              "    }\n",
              "</style>\n",
              "<table border=\"1\" class=\"dataframe\">\n",
              "  <thead>\n",
              "    <tr style=\"text-align: right;\">\n",
              "      <th></th>\n",
              "      <th>num_de_empregados</th>\n",
              "      <th>ano_de_estabelecimento</th>\n",
              "      <th>salario_prevalecente</th>\n",
              "    </tr>\n",
              "  </thead>\n",
              "  <tbody>\n",
              "    <tr>\n",
              "      <th>count</th>\n",
              "      <td>17836.00000</td>\n",
              "      <td>17836.000000</td>\n",
              "      <td>17836.000000</td>\n",
              "    </tr>\n",
              "    <tr>\n",
              "      <th>mean</th>\n",
              "      <td>5726.50185</td>\n",
              "      <td>1979.494898</td>\n",
              "      <td>74327.428401</td>\n",
              "    </tr>\n",
              "    <tr>\n",
              "      <th>std</th>\n",
              "      <td>23321.37739</td>\n",
              "      <td>42.097194</td>\n",
              "      <td>52795.859573</td>\n",
              "    </tr>\n",
              "    <tr>\n",
              "      <th>min</th>\n",
              "      <td>-26.00000</td>\n",
              "      <td>1800.000000</td>\n",
              "      <td>2.136700</td>\n",
              "    </tr>\n",
              "    <tr>\n",
              "      <th>25%</th>\n",
              "      <td>1023.00000</td>\n",
              "      <td>1976.000000</td>\n",
              "      <td>33892.912500</td>\n",
              "    </tr>\n",
              "    <tr>\n",
              "      <th>50%</th>\n",
              "      <td>2117.00000</td>\n",
              "      <td>1997.000000</td>\n",
              "      <td>70106.920000</td>\n",
              "    </tr>\n",
              "    <tr>\n",
              "      <th>75%</th>\n",
              "      <td>3504.25000</td>\n",
              "      <td>2005.000000</td>\n",
              "      <td>107564.715000</td>\n",
              "    </tr>\n",
              "    <tr>\n",
              "      <th>max</th>\n",
              "      <td>602069.00000</td>\n",
              "      <td>2016.000000</td>\n",
              "      <td>319210.270000</td>\n",
              "    </tr>\n",
              "  </tbody>\n",
              "</table>\n",
              "</div>"
            ],
            "text/plain": [
              "       num_de_empregados  ano_de_estabelecimento  salario_prevalecente\n",
              "count        17836.00000            17836.000000          17836.000000\n",
              "mean          5726.50185             1979.494898          74327.428401\n",
              "std          23321.37739               42.097194          52795.859573\n",
              "min            -26.00000             1800.000000              2.136700\n",
              "25%           1023.00000             1976.000000          33892.912500\n",
              "50%           2117.00000             1997.000000          70106.920000\n",
              "75%           3504.25000             2005.000000         107564.715000\n",
              "max         602069.00000             2016.000000         319210.270000"
            ]
          },
          "execution_count": 15,
          "metadata": {},
          "output_type": "execute_result"
        }
      ],
      "source": [
        "df_train.describe() #Aqui notamos que tem uma red flag com o salário, está muito discrepante o min e o max."
      ]
    },
    {
      "cell_type": "code",
      "execution_count": 16,
      "metadata": {
        "colab": {
          "base_uri": "https://localhost:8080/"
        },
        "id": "uNdMo8xXQHBg",
        "outputId": "6b47e257-e934-4daf-cfc1-a88890c39bbe"
      },
      "outputs": [
        {
          "name": "stdout",
          "output_type": "stream",
          "text": [
            "<class 'pandas.core.frame.DataFrame'>\n",
            "RangeIndex: 17836 entries, 0 to 17835\n",
            "Data columns (total 12 columns):\n",
            " #   Column                          Non-Null Count  Dtype  \n",
            "---  ------                          --------------  -----  \n",
            " 0   id_do_caso                      17836 non-null  object \n",
            " 1   continente                      17836 non-null  object \n",
            " 2   educacao_do_empregado           17836 non-null  object \n",
            " 3   tem_experiencia_de_trabalho     17836 non-null  object \n",
            " 4   requer_treinamento_de_trabalho  17836 non-null  object \n",
            " 5   num_de_empregados               17836 non-null  int64  \n",
            " 6   ano_de_estabelecimento          17836 non-null  int64  \n",
            " 7   regiao_de_emprego               17836 non-null  object \n",
            " 8   salario_prevalecente            17836 non-null  float64\n",
            " 9   unidade_de_salario              17836 non-null  object \n",
            " 10  posicao_em_tempo_integral       17836 non-null  object \n",
            " 11  status_do_caso                  17836 non-null  object \n",
            "dtypes: float64(1), int64(2), object(9)\n",
            "memory usage: 1.6+ MB\n"
          ]
        }
      ],
      "source": [
        "df_train.info()"
      ]
    },
    {
      "attachments": {},
      "cell_type": "markdown",
      "metadata": {
        "id": "1_PAVkaiVXZf"
      },
      "source": [
        "<h2>Descobrindo as variáveis categóricas"
      ]
    },
    {
      "cell_type": "code",
      "execution_count": 17,
      "metadata": {
        "colab": {
          "base_uri": "https://localhost:8080/"
        },
        "id": "e0zT8h04QoR4",
        "outputId": "7592ed36-99bf-4ff8-afb5-e93e481ce79d"
      },
      "outputs": [
        {
          "data": {
            "text/plain": [
              "['id_do_caso',\n",
              " 'continente',\n",
              " 'educacao_do_empregado',\n",
              " 'tem_experiencia_de_trabalho',\n",
              " 'requer_treinamento_de_trabalho',\n",
              " 'regiao_de_emprego',\n",
              " 'unidade_de_salario',\n",
              " 'posicao_em_tempo_integral',\n",
              " 'status_do_caso']"
            ]
          },
          "execution_count": 17,
          "metadata": {},
          "output_type": "execute_result"
        }
      ],
      "source": [
        "lista_var_categoricas = [x for x in df_train.columns if df_train[x].dtypes == 'object']\n",
        "lista_var_categoricas"
      ]
    },
    {
      "cell_type": "code",
      "execution_count": 18,
      "metadata": {
        "colab": {
          "base_uri": "https://localhost:8080/"
        },
        "id": "LlOwyCd4W_8l",
        "outputId": "195fb695-5cc9-4219-d211-eceef361a277"
      },
      "outputs": [
        {
          "data": {
            "text/plain": [
              "[\"id_do_caso : ['EZYV10567', 'EZYV5505', 'EZYV5207', 'EZYV7545', 'EZYV16071', 'EZYV3753', 'EZYV18223', 'EZYV16032', 'EZYV19836', 'EZYV4565']\",\n",
              " \"continente : ['Europa', 'Ásia', 'América do Sul', 'América do Norte', 'África', 'Oceania']\",\n",
              " \"educacao_do_empregado : ['Ensino Médio', 'Mestrado', 'Ensino Superior', 'Doutorado']\",\n",
              " \"tem_experiencia_de_trabalho : ['N', 'S']\",\n",
              " \"requer_treinamento_de_trabalho : ['S', 'N']\",\n",
              " \"regiao_de_emprego : ['Sul', 'Meio-Oeste', 'Ilha', 'Nordeste', 'Oeste']\",\n",
              " \"unidade_de_salario : ['Ano', 'Semana', 'Hora', 'Mês']\",\n",
              " \"posicao_em_tempo_integral : ['S', 'N']\",\n",
              " \"status_do_caso : ['Negado', 'Aprovado']\"]"
            ]
          },
          "execution_count": 18,
          "metadata": {},
          "output_type": "execute_result"
        }
      ],
      "source": [
        "#vendo as variáveis únicas de cada coluna\n",
        "listas_unicas = [f'{x} : {list(df_train[x].unique())[:10]}' for x in lista_var_categoricas]\n",
        "listas_unicas"
      ]
    },
    {
      "cell_type": "code",
      "execution_count": 19,
      "metadata": {
        "colab": {
          "base_uri": "https://localhost:8080/"
        },
        "id": "VkyKM1LPd58t",
        "outputId": "c1fcc6d8-9c7c-45c8-c27d-5fa60cafdf9d"
      },
      "outputs": [
        {
          "data": {
            "text/plain": [
              "['Ano', 'Semana', 'Hora', 'Mês']"
            ]
          },
          "execution_count": 19,
          "metadata": {},
          "output_type": "execute_result"
        }
      ],
      "source": [
        "#Aqui vemos que a unidade de salário varia\n",
        "unidades_de_salario = list(df_train['unidade_de_salario'].unique())\n",
        "unidades_de_salario"
      ]
    },
    {
      "attachments": {},
      "cell_type": "markdown",
      "metadata": {
        "id": "OFM1RcDXywrA"
      },
      "source": [
        "# Pré-processamento"
      ]
    },
    {
      "attachments": {},
      "cell_type": "markdown",
      "metadata": {
        "id": "KKtaqANY15Qx"
      },
      "source": [
        "<h3> Limpando valores negativos no número de empregados"
      ]
    },
    {
      "cell_type": "code",
      "execution_count": 20,
      "metadata": {
        "colab": {
          "base_uri": "https://localhost:8080/",
          "height": 176
        },
        "id": "CJCLBeyv4QaB",
        "outputId": "1cb98844-f246-4f04-e302-452400f56dd4"
      },
      "outputs": [
        {
          "data": {
            "text/html": [
              "<div>\n",
              "<style scoped>\n",
              "    .dataframe tbody tr th:only-of-type {\n",
              "        vertical-align: middle;\n",
              "    }\n",
              "\n",
              "    .dataframe tbody tr th {\n",
              "        vertical-align: top;\n",
              "    }\n",
              "\n",
              "    .dataframe thead th {\n",
              "        text-align: right;\n",
              "    }\n",
              "</style>\n",
              "<table border=\"1\" class=\"dataframe\">\n",
              "  <thead>\n",
              "    <tr style=\"text-align: right;\">\n",
              "      <th></th>\n",
              "      <th>id_do_caso</th>\n",
              "      <th>continente</th>\n",
              "      <th>educacao_do_empregado</th>\n",
              "      <th>tem_experiencia_de_trabalho</th>\n",
              "      <th>requer_treinamento_de_trabalho</th>\n",
              "      <th>num_de_empregados</th>\n",
              "      <th>ano_de_estabelecimento</th>\n",
              "      <th>regiao_de_emprego</th>\n",
              "      <th>salario_prevalecente</th>\n",
              "      <th>unidade_de_salario</th>\n",
              "      <th>posicao_em_tempo_integral</th>\n",
              "      <th>status_do_caso</th>\n",
              "    </tr>\n",
              "  </thead>\n",
              "  <tbody>\n",
              "    <tr>\n",
              "      <th>85</th>\n",
              "      <td>EZYV17007</td>\n",
              "      <td>Ásia</td>\n",
              "      <td>Doutorado</td>\n",
              "      <td>S</td>\n",
              "      <td>N</td>\n",
              "      <td>-11</td>\n",
              "      <td>1984</td>\n",
              "      <td>Oeste</td>\n",
              "      <td>25753.51</td>\n",
              "      <td>Ano</td>\n",
              "      <td>S</td>\n",
              "      <td>Negado</td>\n",
              "    </tr>\n",
              "    <tr>\n",
              "      <th>645</th>\n",
              "      <td>EZYV17845</td>\n",
              "      <td>Ásia</td>\n",
              "      <td>Ensino Superior</td>\n",
              "      <td>N</td>\n",
              "      <td>N</td>\n",
              "      <td>-14</td>\n",
              "      <td>2012</td>\n",
              "      <td>Oeste</td>\n",
              "      <td>29325.85</td>\n",
              "      <td>Ano</td>\n",
              "      <td>S</td>\n",
              "      <td>Negado</td>\n",
              "    </tr>\n",
              "  </tbody>\n",
              "</table>\n",
              "</div>"
            ],
            "text/plain": [
              "    id_do_caso continente educacao_do_empregado tem_experiencia_de_trabalho  \\\n",
              "85   EZYV17007       Ásia             Doutorado                           S   \n",
              "645  EZYV17845       Ásia       Ensino Superior                           N   \n",
              "\n",
              "    requer_treinamento_de_trabalho  num_de_empregados  ano_de_estabelecimento  \\\n",
              "85                               N                -11                    1984   \n",
              "645                              N                -14                    2012   \n",
              "\n",
              "    regiao_de_emprego  salario_prevalecente unidade_de_salario  \\\n",
              "85              Oeste              25753.51                Ano   \n",
              "645             Oeste              29325.85                Ano   \n",
              "\n",
              "    posicao_em_tempo_integral status_do_caso  \n",
              "85                          S         Negado  \n",
              "645                         S         Negado  "
            ]
          },
          "execution_count": 20,
          "metadata": {},
          "output_type": "execute_result"
        }
      ],
      "source": [
        "df_train.loc[df_train[\"num_de_empregados\"] < 0]\n",
        "df_train.loc[[85,645]]"
      ]
    },
    {
      "cell_type": "code",
      "execution_count": 21,
      "metadata": {
        "colab": {
          "base_uri": "https://localhost:8080/",
          "height": 176
        },
        "id": "5FyNuafK4wig",
        "outputId": "9d4b725a-e2c4-43e6-ce72-e482b70c6445"
      },
      "outputs": [
        {
          "data": {
            "text/html": [
              "<div>\n",
              "<style scoped>\n",
              "    .dataframe tbody tr th:only-of-type {\n",
              "        vertical-align: middle;\n",
              "    }\n",
              "\n",
              "    .dataframe tbody tr th {\n",
              "        vertical-align: top;\n",
              "    }\n",
              "\n",
              "    .dataframe thead th {\n",
              "        text-align: right;\n",
              "    }\n",
              "</style>\n",
              "<table border=\"1\" class=\"dataframe\">\n",
              "  <thead>\n",
              "    <tr style=\"text-align: right;\">\n",
              "      <th></th>\n",
              "      <th>id_do_caso</th>\n",
              "      <th>continente</th>\n",
              "      <th>educacao_do_empregado</th>\n",
              "      <th>tem_experiencia_de_trabalho</th>\n",
              "      <th>requer_treinamento_de_trabalho</th>\n",
              "      <th>num_de_empregados</th>\n",
              "      <th>ano_de_estabelecimento</th>\n",
              "      <th>regiao_de_emprego</th>\n",
              "      <th>salario_prevalecente</th>\n",
              "      <th>unidade_de_salario</th>\n",
              "      <th>posicao_em_tempo_integral</th>\n",
              "      <th>status_do_caso</th>\n",
              "    </tr>\n",
              "  </thead>\n",
              "  <tbody>\n",
              "    <tr>\n",
              "      <th>85</th>\n",
              "      <td>EZYV17007</td>\n",
              "      <td>Ásia</td>\n",
              "      <td>Doutorado</td>\n",
              "      <td>S</td>\n",
              "      <td>N</td>\n",
              "      <td>-11</td>\n",
              "      <td>1984</td>\n",
              "      <td>Oeste</td>\n",
              "      <td>25753.51</td>\n",
              "      <td>Ano</td>\n",
              "      <td>S</td>\n",
              "      <td>Negado</td>\n",
              "    </tr>\n",
              "    <tr>\n",
              "      <th>645</th>\n",
              "      <td>EZYV17845</td>\n",
              "      <td>Ásia</td>\n",
              "      <td>Ensino Superior</td>\n",
              "      <td>N</td>\n",
              "      <td>N</td>\n",
              "      <td>-14</td>\n",
              "      <td>2012</td>\n",
              "      <td>Oeste</td>\n",
              "      <td>29325.85</td>\n",
              "      <td>Ano</td>\n",
              "      <td>S</td>\n",
              "      <td>Negado</td>\n",
              "    </tr>\n",
              "  </tbody>\n",
              "</table>\n",
              "</div>"
            ],
            "text/plain": [
              "    id_do_caso continente educacao_do_empregado tem_experiencia_de_trabalho  \\\n",
              "85   EZYV17007       Ásia             Doutorado                           S   \n",
              "645  EZYV17845       Ásia       Ensino Superior                           N   \n",
              "\n",
              "    requer_treinamento_de_trabalho  num_de_empregados  ano_de_estabelecimento  \\\n",
              "85                               N                -11                    1984   \n",
              "645                              N                -14                    2012   \n",
              "\n",
              "    regiao_de_emprego  salario_prevalecente unidade_de_salario  \\\n",
              "85              Oeste              25753.51                Ano   \n",
              "645             Oeste              29325.85                Ano   \n",
              "\n",
              "    posicao_em_tempo_integral status_do_caso  \n",
              "85                          S         Negado  \n",
              "645                         S         Negado  "
            ]
          },
          "execution_count": 21,
          "metadata": {},
          "output_type": "execute_result"
        }
      ],
      "source": [
        "df_train.loc[[85,645]]"
      ]
    },
    {
      "attachments": {},
      "cell_type": "markdown",
      "metadata": {
        "id": "0qCjowpNOr3l"
      },
      "source": [
        "<h3>Criando variável relativa ao porte da empresa"
      ]
    },
    {
      "cell_type": "code",
      "execution_count": 22,
      "metadata": {
        "id": "A7VDVA11OrKt"
      },
      "outputs": [],
      "source": [
        "media_empregados_train = df_train[\"num_de_empregados\"].mean()\n",
        "media_empregados_test = df_test[\"num_de_empregados\"].mean()\n",
        "\n",
        "df_train['empresa_grande'] = df_train['num_de_empregados'].apply(lambda x: 1 if x > media_empregados_train else 0)\n",
        "df_test['empresa_grande'] = df_test['num_de_empregados'].apply(lambda x: 1 if x > media_empregados_test else 0)\n"
      ]
    },
    {
      "cell_type": "code",
      "execution_count": 23,
      "metadata": {
        "id": "kLWJ3bWXlIqE"
      },
      "outputs": [],
      "source": [
        "df_train['empresa_pequena'] = df_train['num_de_empregados'].apply(lambda x: 1 if x  <= int(media_empregados_train * 0.20) else 0)\n",
        "df_test['empresa_pequena'] = df_test['num_de_empregados'].apply(lambda x: 1 if x  <= int(media_empregados_test * 0.20) else 0)"
      ]
    },
    {
      "cell_type": "code",
      "execution_count": 24,
      "metadata": {
        "colab": {
          "base_uri": "https://localhost:8080/",
          "height": 81
        },
        "id": "vGfNhT0onaUV",
        "outputId": "73f39e96-f427-4e7d-8855-84bb73a695ee"
      },
      "outputs": [
        {
          "data": {
            "text/html": [
              "<div>\n",
              "<style scoped>\n",
              "    .dataframe tbody tr th:only-of-type {\n",
              "        vertical-align: middle;\n",
              "    }\n",
              "\n",
              "    .dataframe tbody tr th {\n",
              "        vertical-align: top;\n",
              "    }\n",
              "\n",
              "    .dataframe thead th {\n",
              "        text-align: right;\n",
              "    }\n",
              "</style>\n",
              "<table border=\"1\" class=\"dataframe\">\n",
              "  <thead>\n",
              "    <tr style=\"text-align: right;\">\n",
              "      <th></th>\n",
              "      <th>num_de_empregados</th>\n",
              "      <th>empresa_grande</th>\n",
              "    </tr>\n",
              "  </thead>\n",
              "  <tbody>\n",
              "    <tr>\n",
              "      <th>12949</th>\n",
              "      <td>2099</td>\n",
              "      <td>0</td>\n",
              "    </tr>\n",
              "  </tbody>\n",
              "</table>\n",
              "</div>"
            ],
            "text/plain": [
              "       num_de_empregados  empresa_grande\n",
              "12949               2099               0"
            ]
          },
          "execution_count": 24,
          "metadata": {},
          "output_type": "execute_result"
        }
      ],
      "source": [
        "df_train[[\"num_de_empregados\", \"empresa_grande\"]].sample()"
      ]
    },
    {
      "attachments": {},
      "cell_type": "markdown",
      "metadata": {
        "id": "5s53JtwBdtk8"
      },
      "source": [
        "<h3> Convertendo os salarios para valor mensal"
      ]
    },
    {
      "cell_type": "code",
      "execution_count": 25,
      "metadata": {
        "id": "HmRYQgKAds7N"
      },
      "outputs": [],
      "source": [
        "def altera_unidade_salario(row):\n",
        "\n",
        "    if row[\"unidade_de_salario\"] == \"Ano\":\n",
        "        return row[\"salario_prevalecente\"] / 12\n",
        "\n",
        "    elif row[\"unidade_de_salario\"] == \"Semana\":\n",
        "        return row[\"salario_prevalecente\"] * 4\n",
        "\n",
        "    elif row[\"unidade_de_salario\"] == \"Hora\" and row[\"posicao_em_tempo_integral\"] == \"S\":\n",
        "        return row[\"salario_prevalecente\"] * 8 * 21\n",
        "\n",
        "    elif row[\"unidade_de_salario\"] == \"Hora\" and row[\"posicao_em_tempo_integral\"] == \"N\":\n",
        "\n",
        "        return row[\"salario_prevalecente\"] * 6 * 21\n",
        "    else:\n",
        "        return row[\"salario_prevalecente\"]\n",
        "\n",
        "\n",
        "\n",
        "\n",
        "df_train[\"salario_prevalecente\"] = df_train.apply(altera_unidade_salario,  axis = 1)\n",
        "df_train[\"salario_prevalecente\"] = df_train.apply(altera_unidade_salario,  axis = 1)\n",
        "\n",
        "df_train.rename(columns={\"salario_prevalecente\": 'salario_anual'}, inplace=True)\n",
        "df_test.rename(columns={\"salario_prevalecente\": 'salario_anual'}, inplace=True)"
      ]
    },
    {
      "attachments": {},
      "cell_type": "markdown",
      "metadata": {
        "id": "4ga2lf1NzRh4"
      },
      "source": [
        "<h3> Criando variável tempo de mercado"
      ]
    },
    {
      "cell_type": "code",
      "execution_count": 26,
      "metadata": {
        "id": "BmjDBomjzU5T"
      },
      "outputs": [],
      "source": [
        "df_train[\"tempo_de mercado\"] = 2023 - df_train[\"ano_de_estabelecimento\"]\n",
        "df_test[\"tempo_de mercado\"] = 2023 - df_test[\"ano_de_estabelecimento\"]"
      ]
    },
    {
      "attachments": {},
      "cell_type": "markdown",
      "metadata": {
        "id": "Ow6hV7bdGqMh"
      },
      "source": [
        "<h3>Dropando variáveis"
      ]
    },
    {
      "cell_type": "code",
      "execution_count": 27,
      "metadata": {
        "id": "OUHDf-VZ0YXp"
      },
      "outputs": [],
      "source": [
        "df_train.drop([\"ano_de_estabelecimento\"], axis=1, inplace=True)\n",
        "df_test.drop([\"ano_de_estabelecimento\"], axis=1, inplace=True)"
      ]
    },
    {
      "cell_type": "code",
      "execution_count": 28,
      "metadata": {
        "id": "RNGgsW99Gt5p"
      },
      "outputs": [],
      "source": [
        "df_train.drop([\"unidade_de_salario\"], axis=1, inplace=True)\n",
        "df_test.drop([\"unidade_de_salario\"], axis=1, inplace=True)"
      ]
    },
    {
      "cell_type": "code",
      "execution_count": 29,
      "metadata": {
        "colab": {
          "base_uri": "https://localhost:8080/",
          "height": 540
        },
        "id": "qK4vgRcp0yDy",
        "outputId": "a5a497cf-3fe3-497e-ef7f-d60d36ecdbe2"
      },
      "outputs": [
        {
          "data": {
            "text/html": [
              "<div>\n",
              "<style scoped>\n",
              "    .dataframe tbody tr th:only-of-type {\n",
              "        vertical-align: middle;\n",
              "    }\n",
              "\n",
              "    .dataframe tbody tr th {\n",
              "        vertical-align: top;\n",
              "    }\n",
              "\n",
              "    .dataframe thead th {\n",
              "        text-align: right;\n",
              "    }\n",
              "</style>\n",
              "<table border=\"1\" class=\"dataframe\">\n",
              "  <thead>\n",
              "    <tr style=\"text-align: right;\">\n",
              "      <th></th>\n",
              "      <th>id_do_caso</th>\n",
              "      <th>continente</th>\n",
              "      <th>educacao_do_empregado</th>\n",
              "      <th>tem_experiencia_de_trabalho</th>\n",
              "      <th>requer_treinamento_de_trabalho</th>\n",
              "      <th>num_de_empregados</th>\n",
              "      <th>regiao_de_emprego</th>\n",
              "      <th>salario_anual</th>\n",
              "      <th>posicao_em_tempo_integral</th>\n",
              "      <th>status_do_caso</th>\n",
              "      <th>empresa_grande</th>\n",
              "      <th>empresa_pequena</th>\n",
              "      <th>tempo_de mercado</th>\n",
              "    </tr>\n",
              "  </thead>\n",
              "  <tbody>\n",
              "    <tr>\n",
              "      <th>0</th>\n",
              "      <td>EZYV10567</td>\n",
              "      <td>Europa</td>\n",
              "      <td>Ensino Médio</td>\n",
              "      <td>N</td>\n",
              "      <td>S</td>\n",
              "      <td>2087</td>\n",
              "      <td>Sul</td>\n",
              "      <td>4.841058e+02</td>\n",
              "      <td>S</td>\n",
              "      <td>Negado</td>\n",
              "      <td>0</td>\n",
              "      <td>0</td>\n",
              "      <td>168</td>\n",
              "    </tr>\n",
              "    <tr>\n",
              "      <th>1</th>\n",
              "      <td>EZYV5505</td>\n",
              "      <td>Ásia</td>\n",
              "      <td>Mestrado</td>\n",
              "      <td>S</td>\n",
              "      <td>N</td>\n",
              "      <td>5991</td>\n",
              "      <td>Meio-Oeste</td>\n",
              "      <td>3.675790e+02</td>\n",
              "      <td>S</td>\n",
              "      <td>Aprovado</td>\n",
              "      <td>1</td>\n",
              "      <td>0</td>\n",
              "      <td>20</td>\n",
              "    </tr>\n",
              "    <tr>\n",
              "      <th>2</th>\n",
              "      <td>EZYV5207</td>\n",
              "      <td>Ásia</td>\n",
              "      <td>Ensino Médio</td>\n",
              "      <td>N</td>\n",
              "      <td>N</td>\n",
              "      <td>1426</td>\n",
              "      <td>Ilha</td>\n",
              "      <td>7.696542e+02</td>\n",
              "      <td>S</td>\n",
              "      <td>Negado</td>\n",
              "      <td>0</td>\n",
              "      <td>0</td>\n",
              "      <td>23</td>\n",
              "    </tr>\n",
              "    <tr>\n",
              "      <th>3</th>\n",
              "      <td>EZYV7545</td>\n",
              "      <td>Ásia</td>\n",
              "      <td>Ensino Médio</td>\n",
              "      <td>N</td>\n",
              "      <td>N</td>\n",
              "      <td>3846</td>\n",
              "      <td>Meio-Oeste</td>\n",
              "      <td>1.470155e+06</td>\n",
              "      <td>S</td>\n",
              "      <td>Negado</td>\n",
              "      <td>0</td>\n",
              "      <td>0</td>\n",
              "      <td>31</td>\n",
              "    </tr>\n",
              "    <tr>\n",
              "      <th>4</th>\n",
              "      <td>EZYV16071</td>\n",
              "      <td>Ásia</td>\n",
              "      <td>Ensino Superior</td>\n",
              "      <td>S</td>\n",
              "      <td>N</td>\n",
              "      <td>3957</td>\n",
              "      <td>Nordeste</td>\n",
              "      <td>9.594114e+02</td>\n",
              "      <td>S</td>\n",
              "      <td>Aprovado</td>\n",
              "      <td>0</td>\n",
              "      <td>0</td>\n",
              "      <td>74</td>\n",
              "    </tr>\n",
              "    <tr>\n",
              "      <th>...</th>\n",
              "      <td>...</td>\n",
              "      <td>...</td>\n",
              "      <td>...</td>\n",
              "      <td>...</td>\n",
              "      <td>...</td>\n",
              "      <td>...</td>\n",
              "      <td>...</td>\n",
              "      <td>...</td>\n",
              "      <td>...</td>\n",
              "      <td>...</td>\n",
              "      <td>...</td>\n",
              "      <td>...</td>\n",
              "      <td>...</td>\n",
              "    </tr>\n",
              "    <tr>\n",
              "      <th>17831</th>\n",
              "      <td>EZYV17821</td>\n",
              "      <td>Ásia</td>\n",
              "      <td>Mestrado</td>\n",
              "      <td>S</td>\n",
              "      <td>N</td>\n",
              "      <td>95347</td>\n",
              "      <td>Oeste</td>\n",
              "      <td>4.839739e+02</td>\n",
              "      <td>S</td>\n",
              "      <td>Aprovado</td>\n",
              "      <td>1</td>\n",
              "      <td>0</td>\n",
              "      <td>28</td>\n",
              "    </tr>\n",
              "    <tr>\n",
              "      <th>17832</th>\n",
              "      <td>EZYV13200</td>\n",
              "      <td>Europa</td>\n",
              "      <td>Ensino Médio</td>\n",
              "      <td>N</td>\n",
              "      <td>N</td>\n",
              "      <td>1483</td>\n",
              "      <td>Sul</td>\n",
              "      <td>9.460946e+02</td>\n",
              "      <td>S</td>\n",
              "      <td>Negado</td>\n",
              "      <td>0</td>\n",
              "      <td>0</td>\n",
              "      <td>137</td>\n",
              "    </tr>\n",
              "    <tr>\n",
              "      <th>17833</th>\n",
              "      <td>EZYV8903</td>\n",
              "      <td>América do Norte</td>\n",
              "      <td>Mestrado</td>\n",
              "      <td>N</td>\n",
              "      <td>N</td>\n",
              "      <td>1504</td>\n",
              "      <td>Nordeste</td>\n",
              "      <td>8.207451e+02</td>\n",
              "      <td>S</td>\n",
              "      <td>Negado</td>\n",
              "      <td>0</td>\n",
              "      <td>0</td>\n",
              "      <td>13</td>\n",
              "    </tr>\n",
              "    <tr>\n",
              "      <th>17834</th>\n",
              "      <td>EZYV6163</td>\n",
              "      <td>América do Norte</td>\n",
              "      <td>Doutorado</td>\n",
              "      <td>S</td>\n",
              "      <td>N</td>\n",
              "      <td>251967</td>\n",
              "      <td>Meio-Oeste</td>\n",
              "      <td>6.467597e+02</td>\n",
              "      <td>S</td>\n",
              "      <td>Aprovado</td>\n",
              "      <td>1</td>\n",
              "      <td>0</td>\n",
              "      <td>13</td>\n",
              "    </tr>\n",
              "    <tr>\n",
              "      <th>17835</th>\n",
              "      <td>EZYV4219</td>\n",
              "      <td>Ásia</td>\n",
              "      <td>Ensino Superior</td>\n",
              "      <td>S</td>\n",
              "      <td>N</td>\n",
              "      <td>4116</td>\n",
              "      <td>Oeste</td>\n",
              "      <td>4.965317e+02</td>\n",
              "      <td>S</td>\n",
              "      <td>Aprovado</td>\n",
              "      <td>0</td>\n",
              "      <td>0</td>\n",
              "      <td>15</td>\n",
              "    </tr>\n",
              "  </tbody>\n",
              "</table>\n",
              "<p>17836 rows × 13 columns</p>\n",
              "</div>"
            ],
            "text/plain": [
              "      id_do_caso        continente educacao_do_empregado  \\\n",
              "0      EZYV10567            Europa          Ensino Médio   \n",
              "1       EZYV5505              Ásia              Mestrado   \n",
              "2       EZYV5207              Ásia          Ensino Médio   \n",
              "3       EZYV7545              Ásia          Ensino Médio   \n",
              "4      EZYV16071              Ásia       Ensino Superior   \n",
              "...          ...               ...                   ...   \n",
              "17831  EZYV17821              Ásia              Mestrado   \n",
              "17832  EZYV13200            Europa          Ensino Médio   \n",
              "17833   EZYV8903  América do Norte              Mestrado   \n",
              "17834   EZYV6163  América do Norte             Doutorado   \n",
              "17835   EZYV4219              Ásia       Ensino Superior   \n",
              "\n",
              "      tem_experiencia_de_trabalho requer_treinamento_de_trabalho  \\\n",
              "0                               N                              S   \n",
              "1                               S                              N   \n",
              "2                               N                              N   \n",
              "3                               N                              N   \n",
              "4                               S                              N   \n",
              "...                           ...                            ...   \n",
              "17831                           S                              N   \n",
              "17832                           N                              N   \n",
              "17833                           N                              N   \n",
              "17834                           S                              N   \n",
              "17835                           S                              N   \n",
              "\n",
              "       num_de_empregados regiao_de_emprego  salario_anual  \\\n",
              "0                   2087               Sul   4.841058e+02   \n",
              "1                   5991        Meio-Oeste   3.675790e+02   \n",
              "2                   1426              Ilha   7.696542e+02   \n",
              "3                   3846        Meio-Oeste   1.470155e+06   \n",
              "4                   3957          Nordeste   9.594114e+02   \n",
              "...                  ...               ...            ...   \n",
              "17831              95347             Oeste   4.839739e+02   \n",
              "17832               1483               Sul   9.460946e+02   \n",
              "17833               1504          Nordeste   8.207451e+02   \n",
              "17834             251967        Meio-Oeste   6.467597e+02   \n",
              "17835               4116             Oeste   4.965317e+02   \n",
              "\n",
              "      posicao_em_tempo_integral status_do_caso  empresa_grande  \\\n",
              "0                             S         Negado               0   \n",
              "1                             S       Aprovado               1   \n",
              "2                             S         Negado               0   \n",
              "3                             S         Negado               0   \n",
              "4                             S       Aprovado               0   \n",
              "...                         ...            ...             ...   \n",
              "17831                         S       Aprovado               1   \n",
              "17832                         S         Negado               0   \n",
              "17833                         S         Negado               0   \n",
              "17834                         S       Aprovado               1   \n",
              "17835                         S       Aprovado               0   \n",
              "\n",
              "       empresa_pequena  tempo_de mercado  \n",
              "0                    0               168  \n",
              "1                    0                20  \n",
              "2                    0                23  \n",
              "3                    0                31  \n",
              "4                    0                74  \n",
              "...                ...               ...  \n",
              "17831                0                28  \n",
              "17832                0               137  \n",
              "17833                0                13  \n",
              "17834                0                13  \n",
              "17835                0                15  \n",
              "\n",
              "[17836 rows x 13 columns]"
            ]
          },
          "execution_count": 29,
          "metadata": {},
          "output_type": "execute_result"
        }
      ],
      "source": [
        "df_train"
      ]
    },
    {
      "attachments": {},
      "cell_type": "markdown",
      "metadata": {
        "id": "Jsa8GG-uH_aP"
      },
      "source": [
        "<h3>Lidando com variaveis categóricas\n",
        "\n",
        "\n"
      ]
    },
    {
      "cell_type": "code",
      "execution_count": 30,
      "metadata": {
        "id": "ese29loThpS2"
      },
      "outputs": [],
      "source": [
        "lista_ignora = ['id_do_caso', 'continente', 'regiao_de_emprego']\n",
        "lista_ignora= ['id_do_caso','continente', 'regiao_de_emprego']\n",
        "\n",
        "lista_var_categoricas_train = [x for x in df_test.columns if df_test[x].dtypes == 'object' and x not in lista_ignora]\n",
        "lista_var_categoricas_test = [x for x in df_test.columns if df_test[x].dtypes == 'object' and x not in lista_ignora]\n"
      ]
    },
    {
      "cell_type": "code",
      "execution_count": 31,
      "metadata": {
        "colab": {
          "base_uri": "https://localhost:8080/"
        },
        "id": "FyXlGx3SeBjq",
        "outputId": "b10736e9-9a07-4da6-d21d-96269565e193"
      },
      "outputs": [
        {
          "data": {
            "text/plain": [
              "['educacao_do_empregado',\n",
              " 'tem_experiencia_de_trabalho',\n",
              " 'requer_treinamento_de_trabalho',\n",
              " 'posicao_em_tempo_integral']"
            ]
          },
          "execution_count": 31,
          "metadata": {},
          "output_type": "execute_result"
        }
      ],
      "source": [
        "lista_var_categoricas_train"
      ]
    },
    {
      "cell_type": "code",
      "execution_count": 32,
      "metadata": {
        "colab": {
          "base_uri": "https://localhost:8080/"
        },
        "id": "9BktenbZW3yl",
        "outputId": "f01a8418-df77-4d03-ebe4-8357d349052c"
      },
      "outputs": [
        {
          "name": "stdout",
          "output_type": "stream",
          "text": [
            "\n"
          ]
        }
      ],
      "source": [
        "\n",
        "ordinal_encoder= OrdinalEncoder(categories=[\n",
        "    ['Ensino Médio','Ensino Superior', 'Mestrado', 'Doutorado'],\n",
        "    ['N', 'S'],\n",
        "    ['N', 'S'],\n",
        "    ['N', 'S']]\n",
        "    )\n",
        "\n",
        "print()"
      ]
    },
    {
      "cell_type": "code",
      "execution_count": 33,
      "metadata": {
        "id": "qFQcdniaJqDJ"
      },
      "outputs": [],
      "source": [
        "id_train_guardar = df_train[\"id_do_caso\"]\n",
        "id_test_guardar = df_test[\"id_do_caso\"]\n",
        "\n",
        "X_train = df_train.drop([\"status_do_caso\", \"id_do_caso\"], axis=1)\n",
        "y_train = df_train[[\"status_do_caso\"]]\n",
        "\n",
        "X_test = df_test.drop([\"id_do_caso\"], axis=1)\n"
      ]
    },
    {
      "cell_type": "code",
      "execution_count": 34,
      "metadata": {
        "id": "4_qy81UuhDKF"
      },
      "outputs": [],
      "source": [
        "X_train[\"num_com_salario\"] = X_train[\"salario_anual\"] / X_train[\"num_de_empregados\"]\n",
        "X_test[\"num_com_salario\"] = X_test[\"salario_anual\"] / X_test[\"num_de_empregados\"]"
      ]
    },
    {
      "cell_type": "code",
      "execution_count": 35,
      "metadata": {
        "id": "A3aL3XA9Pk1y"
      },
      "outputs": [],
      "source": [
        "lista_cat = ['continente', 'regiao_de_emprego']"
      ]
    },
    {
      "cell_type": "code",
      "execution_count": 36,
      "metadata": {
        "id": "e2mTBTJmO8qW"
      },
      "outputs": [],
      "source": [
        "y_train = y_train[\"status_do_caso\"].apply(lambda x: 1 if x == 'Aprovado' else 0)"
      ]
    },
    {
      "cell_type": "code",
      "execution_count": 37,
      "metadata": {
        "id": "bVitfd9_dCnU"
      },
      "outputs": [],
      "source": [
        "X_train[lista_var_categoricas_train] = ordinal_encoder.fit_transform(X_train[lista_var_categoricas_train])\n",
        "X_test[lista_var_categoricas_test] = ordinal_encoder.fit_transform(X_test[lista_var_categoricas_test])\n"
      ]
    },
    {
      "cell_type": "code",
      "execution_count": 38,
      "metadata": {
        "id": "x4ZLAiPZwkt3"
      },
      "outputs": [],
      "source": [
        "encoder = CatBoostEncoder()\n",
        "encoder.fit(X_train[lista_cat], y_train)\n",
        "\n",
        "X_train[lista_cat] = encoder.transform(X_train[lista_cat])\n",
        "X_test[lista_cat] = encoder.transform(X_test[lista_cat])"
      ]
    },
    {
      "cell_type": "code",
      "execution_count": 39,
      "metadata": {
        "id": "0GlsPi_GipGu"
      },
      "outputs": [],
      "source": [
        "X_train[\"Xp_requer\"] = ((X_train[\"tem_experiencia_de_trabalho\"] - X_train[\"requer_treinamento_de_trabalho\"]) + 1)\n",
        "X_test[\"Xp_requer\"] = ((X_test[\"tem_experiencia_de_trabalho\"] - X_test[\"requer_treinamento_de_trabalho\"]) + 1)"
      ]
    },
    {
      "cell_type": "code",
      "execution_count": 40,
      "metadata": {
        "id": "HF2uYGfJjom_"
      },
      "outputs": [],
      "source": [
        "X_train[\"valor_hora_qualifica\"] = (X_train[\"educacao_do_empregado\"] + 1) * ((X_train[\"posicao_em_tempo_integral\"] * 2)) + 1\n",
        "X_test[\"valor_hora_qualifica\"] = (X_test[\"educacao_do_empregado\"] + 1) * ((X_test[\"posicao_em_tempo_integral\"] * 2)) + 1"
      ]
    },
    {
      "cell_type": "code",
      "execution_count": 41,
      "metadata": {
        "colab": {
          "base_uri": "https://localhost:8080/",
          "height": 505
        },
        "id": "Z9xJVm_gdqVZ",
        "outputId": "4a7e3450-1b9f-4911-f242-0994d9c6a08b"
      },
      "outputs": [
        {
          "data": {
            "text/html": [
              "<div>\n",
              "<style scoped>\n",
              "    .dataframe tbody tr th:only-of-type {\n",
              "        vertical-align: middle;\n",
              "    }\n",
              "\n",
              "    .dataframe tbody tr th {\n",
              "        vertical-align: top;\n",
              "    }\n",
              "\n",
              "    .dataframe thead th {\n",
              "        text-align: right;\n",
              "    }\n",
              "</style>\n",
              "<table border=\"1\" class=\"dataframe\">\n",
              "  <thead>\n",
              "    <tr style=\"text-align: right;\">\n",
              "      <th></th>\n",
              "      <th>continente</th>\n",
              "      <th>educacao_do_empregado</th>\n",
              "      <th>tem_experiencia_de_trabalho</th>\n",
              "      <th>requer_treinamento_de_trabalho</th>\n",
              "      <th>num_de_empregados</th>\n",
              "      <th>regiao_de_emprego</th>\n",
              "      <th>salario_anual</th>\n",
              "      <th>posicao_em_tempo_integral</th>\n",
              "      <th>empresa_grande</th>\n",
              "      <th>empresa_pequena</th>\n",
              "      <th>tempo_de mercado</th>\n",
              "      <th>num_com_salario</th>\n",
              "      <th>Xp_requer</th>\n",
              "      <th>valor_hora_qualifica</th>\n",
              "    </tr>\n",
              "  </thead>\n",
              "  <tbody>\n",
              "    <tr>\n",
              "      <th>0</th>\n",
              "      <td>0.793849</td>\n",
              "      <td>0.0</td>\n",
              "      <td>0.0</td>\n",
              "      <td>1.0</td>\n",
              "      <td>2087</td>\n",
              "      <td>0.700523</td>\n",
              "      <td>4.841058e+02</td>\n",
              "      <td>1.0</td>\n",
              "      <td>0</td>\n",
              "      <td>0</td>\n",
              "      <td>168</td>\n",
              "      <td>0.231963</td>\n",
              "      <td>0.0</td>\n",
              "      <td>3.0</td>\n",
              "    </tr>\n",
              "    <tr>\n",
              "      <th>1</th>\n",
              "      <td>0.653635</td>\n",
              "      <td>2.0</td>\n",
              "      <td>1.0</td>\n",
              "      <td>0.0</td>\n",
              "      <td>5991</td>\n",
              "      <td>0.759850</td>\n",
              "      <td>3.675790e+02</td>\n",
              "      <td>1.0</td>\n",
              "      <td>1</td>\n",
              "      <td>0</td>\n",
              "      <td>20</td>\n",
              "      <td>0.061355</td>\n",
              "      <td>2.0</td>\n",
              "      <td>7.0</td>\n",
              "    </tr>\n",
              "    <tr>\n",
              "      <th>2</th>\n",
              "      <td>0.653635</td>\n",
              "      <td>0.0</td>\n",
              "      <td>0.0</td>\n",
              "      <td>0.0</td>\n",
              "      <td>1426</td>\n",
              "      <td>0.604097</td>\n",
              "      <td>7.696542e+02</td>\n",
              "      <td>1.0</td>\n",
              "      <td>0</td>\n",
              "      <td>0</td>\n",
              "      <td>23</td>\n",
              "      <td>0.539729</td>\n",
              "      <td>1.0</td>\n",
              "      <td>3.0</td>\n",
              "    </tr>\n",
              "    <tr>\n",
              "      <th>3</th>\n",
              "      <td>0.653635</td>\n",
              "      <td>0.0</td>\n",
              "      <td>0.0</td>\n",
              "      <td>0.0</td>\n",
              "      <td>3846</td>\n",
              "      <td>0.759850</td>\n",
              "      <td>1.470155e+06</td>\n",
              "      <td>1.0</td>\n",
              "      <td>0</td>\n",
              "      <td>0</td>\n",
              "      <td>31</td>\n",
              "      <td>382.255559</td>\n",
              "      <td>1.0</td>\n",
              "      <td>3.0</td>\n",
              "    </tr>\n",
              "    <tr>\n",
              "      <th>4</th>\n",
              "      <td>0.653635</td>\n",
              "      <td>1.0</td>\n",
              "      <td>1.0</td>\n",
              "      <td>0.0</td>\n",
              "      <td>3957</td>\n",
              "      <td>0.628168</td>\n",
              "      <td>9.594114e+02</td>\n",
              "      <td>1.0</td>\n",
              "      <td>0</td>\n",
              "      <td>0</td>\n",
              "      <td>74</td>\n",
              "      <td>0.242459</td>\n",
              "      <td>2.0</td>\n",
              "      <td>5.0</td>\n",
              "    </tr>\n",
              "    <tr>\n",
              "      <th>...</th>\n",
              "      <td>...</td>\n",
              "      <td>...</td>\n",
              "      <td>...</td>\n",
              "      <td>...</td>\n",
              "      <td>...</td>\n",
              "      <td>...</td>\n",
              "      <td>...</td>\n",
              "      <td>...</td>\n",
              "      <td>...</td>\n",
              "      <td>...</td>\n",
              "      <td>...</td>\n",
              "      <td>...</td>\n",
              "      <td>...</td>\n",
              "      <td>...</td>\n",
              "    </tr>\n",
              "    <tr>\n",
              "      <th>17831</th>\n",
              "      <td>0.653635</td>\n",
              "      <td>2.0</td>\n",
              "      <td>1.0</td>\n",
              "      <td>0.0</td>\n",
              "      <td>95347</td>\n",
              "      <td>0.625418</td>\n",
              "      <td>4.839739e+02</td>\n",
              "      <td>1.0</td>\n",
              "      <td>1</td>\n",
              "      <td>0</td>\n",
              "      <td>28</td>\n",
              "      <td>0.005076</td>\n",
              "      <td>2.0</td>\n",
              "      <td>7.0</td>\n",
              "    </tr>\n",
              "    <tr>\n",
              "      <th>17832</th>\n",
              "      <td>0.793849</td>\n",
              "      <td>0.0</td>\n",
              "      <td>0.0</td>\n",
              "      <td>0.0</td>\n",
              "      <td>1483</td>\n",
              "      <td>0.700523</td>\n",
              "      <td>9.460946e+02</td>\n",
              "      <td>1.0</td>\n",
              "      <td>0</td>\n",
              "      <td>0</td>\n",
              "      <td>137</td>\n",
              "      <td>0.637960</td>\n",
              "      <td>1.0</td>\n",
              "      <td>3.0</td>\n",
              "    </tr>\n",
              "    <tr>\n",
              "      <th>17833</th>\n",
              "      <td>0.621807</td>\n",
              "      <td>2.0</td>\n",
              "      <td>0.0</td>\n",
              "      <td>0.0</td>\n",
              "      <td>1504</td>\n",
              "      <td>0.628168</td>\n",
              "      <td>8.207451e+02</td>\n",
              "      <td>1.0</td>\n",
              "      <td>0</td>\n",
              "      <td>0</td>\n",
              "      <td>13</td>\n",
              "      <td>0.545708</td>\n",
              "      <td>1.0</td>\n",
              "      <td>7.0</td>\n",
              "    </tr>\n",
              "    <tr>\n",
              "      <th>17834</th>\n",
              "      <td>0.621807</td>\n",
              "      <td>3.0</td>\n",
              "      <td>1.0</td>\n",
              "      <td>0.0</td>\n",
              "      <td>251967</td>\n",
              "      <td>0.759850</td>\n",
              "      <td>6.467597e+02</td>\n",
              "      <td>1.0</td>\n",
              "      <td>1</td>\n",
              "      <td>0</td>\n",
              "      <td>13</td>\n",
              "      <td>0.002567</td>\n",
              "      <td>2.0</td>\n",
              "      <td>9.0</td>\n",
              "    </tr>\n",
              "    <tr>\n",
              "      <th>17835</th>\n",
              "      <td>0.653635</td>\n",
              "      <td>1.0</td>\n",
              "      <td>1.0</td>\n",
              "      <td>0.0</td>\n",
              "      <td>4116</td>\n",
              "      <td>0.625418</td>\n",
              "      <td>4.965317e+02</td>\n",
              "      <td>1.0</td>\n",
              "      <td>0</td>\n",
              "      <td>0</td>\n",
              "      <td>15</td>\n",
              "      <td>0.120635</td>\n",
              "      <td>2.0</td>\n",
              "      <td>5.0</td>\n",
              "    </tr>\n",
              "  </tbody>\n",
              "</table>\n",
              "<p>17836 rows × 14 columns</p>\n",
              "</div>"
            ],
            "text/plain": [
              "       continente  educacao_do_empregado  tem_experiencia_de_trabalho  \\\n",
              "0        0.793849                    0.0                          0.0   \n",
              "1        0.653635                    2.0                          1.0   \n",
              "2        0.653635                    0.0                          0.0   \n",
              "3        0.653635                    0.0                          0.0   \n",
              "4        0.653635                    1.0                          1.0   \n",
              "...           ...                    ...                          ...   \n",
              "17831    0.653635                    2.0                          1.0   \n",
              "17832    0.793849                    0.0                          0.0   \n",
              "17833    0.621807                    2.0                          0.0   \n",
              "17834    0.621807                    3.0                          1.0   \n",
              "17835    0.653635                    1.0                          1.0   \n",
              "\n",
              "       requer_treinamento_de_trabalho  num_de_empregados  regiao_de_emprego  \\\n",
              "0                                 1.0               2087           0.700523   \n",
              "1                                 0.0               5991           0.759850   \n",
              "2                                 0.0               1426           0.604097   \n",
              "3                                 0.0               3846           0.759850   \n",
              "4                                 0.0               3957           0.628168   \n",
              "...                               ...                ...                ...   \n",
              "17831                             0.0              95347           0.625418   \n",
              "17832                             0.0               1483           0.700523   \n",
              "17833                             0.0               1504           0.628168   \n",
              "17834                             0.0             251967           0.759850   \n",
              "17835                             0.0               4116           0.625418   \n",
              "\n",
              "       salario_anual  posicao_em_tempo_integral  empresa_grande  \\\n",
              "0       4.841058e+02                        1.0               0   \n",
              "1       3.675790e+02                        1.0               1   \n",
              "2       7.696542e+02                        1.0               0   \n",
              "3       1.470155e+06                        1.0               0   \n",
              "4       9.594114e+02                        1.0               0   \n",
              "...              ...                        ...             ...   \n",
              "17831   4.839739e+02                        1.0               1   \n",
              "17832   9.460946e+02                        1.0               0   \n",
              "17833   8.207451e+02                        1.0               0   \n",
              "17834   6.467597e+02                        1.0               1   \n",
              "17835   4.965317e+02                        1.0               0   \n",
              "\n",
              "       empresa_pequena  tempo_de mercado  num_com_salario  Xp_requer  \\\n",
              "0                    0               168         0.231963        0.0   \n",
              "1                    0                20         0.061355        2.0   \n",
              "2                    0                23         0.539729        1.0   \n",
              "3                    0                31       382.255559        1.0   \n",
              "4                    0                74         0.242459        2.0   \n",
              "...                ...               ...              ...        ...   \n",
              "17831                0                28         0.005076        2.0   \n",
              "17832                0               137         0.637960        1.0   \n",
              "17833                0                13         0.545708        1.0   \n",
              "17834                0                13         0.002567        2.0   \n",
              "17835                0                15         0.120635        2.0   \n",
              "\n",
              "       valor_hora_qualifica  \n",
              "0                       3.0  \n",
              "1                       7.0  \n",
              "2                       3.0  \n",
              "3                       3.0  \n",
              "4                       5.0  \n",
              "...                     ...  \n",
              "17831                   7.0  \n",
              "17832                   3.0  \n",
              "17833                   7.0  \n",
              "17834                   9.0  \n",
              "17835                   5.0  \n",
              "\n",
              "[17836 rows x 14 columns]"
            ]
          },
          "execution_count": 41,
          "metadata": {},
          "output_type": "execute_result"
        }
      ],
      "source": [
        "X_train"
      ]
    },
    {
      "attachments": {},
      "cell_type": "markdown",
      "metadata": {
        "id": "V_h6F6xgK_d-"
      },
      "source": [
        "<h3> Preparando os dados finais para serem usados no modelo"
      ]
    },
    {
      "attachments": {},
      "cell_type": "markdown",
      "metadata": {
        "id": "iGZVXvdpv1Uc"
      },
      "source": [
        "#Modelagem"
      ]
    },
    {
      "attachments": {},
      "cell_type": "markdown",
      "metadata": {
        "id": "9yi0drGxcXfz"
      },
      "source": [
        "<h4> XGBClassifier"
      ]
    },
    {
      "attachments": {},
      "cell_type": "markdown",
      "metadata": {
        "id": "dwuMp2l1PRCg"
      },
      "source": [
        "# Modelos de validação"
      ]
    },
    {
      "cell_type": "code",
      "execution_count": 42,
      "metadata": {
        "colab": {
          "base_uri": "https://localhost:8080/",
          "height": 248
        },
        "id": "wyH-kJZ0OpOY",
        "outputId": "68a96d0c-88d3-4e1f-f9cf-7b3b29ebb8d6"
      },
      "outputs": [
        {
          "data": {
            "text/html": [
              "<style>#sk-container-id-1 {color: black;background-color: white;}#sk-container-id-1 pre{padding: 0;}#sk-container-id-1 div.sk-toggleable {background-color: white;}#sk-container-id-1 label.sk-toggleable__label {cursor: pointer;display: block;width: 100%;margin-bottom: 0;padding: 0.3em;box-sizing: border-box;text-align: center;}#sk-container-id-1 label.sk-toggleable__label-arrow:before {content: \"▸\";float: left;margin-right: 0.25em;color: #696969;}#sk-container-id-1 label.sk-toggleable__label-arrow:hover:before {color: black;}#sk-container-id-1 div.sk-estimator:hover label.sk-toggleable__label-arrow:before {color: black;}#sk-container-id-1 div.sk-toggleable__content {max-height: 0;max-width: 0;overflow: hidden;text-align: left;background-color: #f0f8ff;}#sk-container-id-1 div.sk-toggleable__content pre {margin: 0.2em;color: black;border-radius: 0.25em;background-color: #f0f8ff;}#sk-container-id-1 input.sk-toggleable__control:checked~div.sk-toggleable__content {max-height: 200px;max-width: 100%;overflow: auto;}#sk-container-id-1 input.sk-toggleable__control:checked~label.sk-toggleable__label-arrow:before {content: \"▾\";}#sk-container-id-1 div.sk-estimator input.sk-toggleable__control:checked~label.sk-toggleable__label {background-color: #d4ebff;}#sk-container-id-1 div.sk-label input.sk-toggleable__control:checked~label.sk-toggleable__label {background-color: #d4ebff;}#sk-container-id-1 input.sk-hidden--visually {border: 0;clip: rect(1px 1px 1px 1px);clip: rect(1px, 1px, 1px, 1px);height: 1px;margin: -1px;overflow: hidden;padding: 0;position: absolute;width: 1px;}#sk-container-id-1 div.sk-estimator {font-family: monospace;background-color: #f0f8ff;border: 1px dotted black;border-radius: 0.25em;box-sizing: border-box;margin-bottom: 0.5em;}#sk-container-id-1 div.sk-estimator:hover {background-color: #d4ebff;}#sk-container-id-1 div.sk-parallel-item::after {content: \"\";width: 100%;border-bottom: 1px solid gray;flex-grow: 1;}#sk-container-id-1 div.sk-label:hover label.sk-toggleable__label {background-color: #d4ebff;}#sk-container-id-1 div.sk-serial::before {content: \"\";position: absolute;border-left: 1px solid gray;box-sizing: border-box;top: 0;bottom: 0;left: 50%;z-index: 0;}#sk-container-id-1 div.sk-serial {display: flex;flex-direction: column;align-items: center;background-color: white;padding-right: 0.2em;padding-left: 0.2em;position: relative;}#sk-container-id-1 div.sk-item {position: relative;z-index: 1;}#sk-container-id-1 div.sk-parallel {display: flex;align-items: stretch;justify-content: center;background-color: white;position: relative;}#sk-container-id-1 div.sk-item::before, #sk-container-id-1 div.sk-parallel-item::before {content: \"\";position: absolute;border-left: 1px solid gray;box-sizing: border-box;top: 0;bottom: 0;left: 50%;z-index: -1;}#sk-container-id-1 div.sk-parallel-item {display: flex;flex-direction: column;z-index: 1;position: relative;background-color: white;}#sk-container-id-1 div.sk-parallel-item:first-child::after {align-self: flex-end;width: 50%;}#sk-container-id-1 div.sk-parallel-item:last-child::after {align-self: flex-start;width: 50%;}#sk-container-id-1 div.sk-parallel-item:only-child::after {width: 0;}#sk-container-id-1 div.sk-dashed-wrapped {border: 1px dashed gray;margin: 0 0.4em 0.5em 0.4em;box-sizing: border-box;padding-bottom: 0.4em;background-color: white;}#sk-container-id-1 div.sk-label label {font-family: monospace;font-weight: bold;display: inline-block;line-height: 1.2em;}#sk-container-id-1 div.sk-label-container {text-align: center;}#sk-container-id-1 div.sk-container {/* jupyter's `normalize.less` sets `[hidden] { display: none; }` but bootstrap.min.css set `[hidden] { display: none !important; }` so we also need the `!important` here to be able to override the default hidden behavior on the sphinx rendered scikit-learn.org. See: https://github.com/scikit-learn/scikit-learn/issues/21755 */display: inline-block !important;position: relative;}#sk-container-id-1 div.sk-text-repr-fallback {display: none;}</style><div id=\"sk-container-id-1\" class=\"sk-top-container\"><div class=\"sk-text-repr-fallback\"><pre>XGBClassifier(base_score=None, booster=None, callbacks=None,\n",
              "              colsample_bylevel=None, colsample_bynode=None, colsample_bytree=1,\n",
              "              early_stopping_rounds=None, enable_categorical=False,\n",
              "              eval_metric=None, feature_types=None, gamma=None, gpu_id=None,\n",
              "              grow_policy=None, importance_type=None,\n",
              "              interaction_constraints=None, learning_rate=0.01, max_bin=None,\n",
              "              max_cat_threshold=None, max_cat_to_onehot=None,\n",
              "              max_delta_step=None, max_depth=4, max_leaves=None,\n",
              "              min_child_weight=None, missing=nan, monotone_constraints=None,\n",
              "              n_estimators=300, n_jobs=None, num_parallel_tree=None,\n",
              "              predictor=None, random_state=None, ...)</pre><b>In a Jupyter environment, please rerun this cell to show the HTML representation or trust the notebook. <br />On GitHub, the HTML representation is unable to render, please try loading this page with nbviewer.org.</b></div><div class=\"sk-container\" hidden><div class=\"sk-item\"><div class=\"sk-estimator sk-toggleable\"><input class=\"sk-toggleable__control sk-hidden--visually\" id=\"sk-estimator-id-1\" type=\"checkbox\" checked><label for=\"sk-estimator-id-1\" class=\"sk-toggleable__label sk-toggleable__label-arrow\">XGBClassifier</label><div class=\"sk-toggleable__content\"><pre>XGBClassifier(base_score=None, booster=None, callbacks=None,\n",
              "              colsample_bylevel=None, colsample_bynode=None, colsample_bytree=1,\n",
              "              early_stopping_rounds=None, enable_categorical=False,\n",
              "              eval_metric=None, feature_types=None, gamma=None, gpu_id=None,\n",
              "              grow_policy=None, importance_type=None,\n",
              "              interaction_constraints=None, learning_rate=0.01, max_bin=None,\n",
              "              max_cat_threshold=None, max_cat_to_onehot=None,\n",
              "              max_delta_step=None, max_depth=4, max_leaves=None,\n",
              "              min_child_weight=None, missing=nan, monotone_constraints=None,\n",
              "              n_estimators=300, n_jobs=None, num_parallel_tree=None,\n",
              "              predictor=None, random_state=None, ...)</pre></div></div></div></div></div>"
            ],
            "text/plain": [
              "XGBClassifier(base_score=None, booster=None, callbacks=None,\n",
              "              colsample_bylevel=None, colsample_bynode=None, colsample_bytree=1,\n",
              "              early_stopping_rounds=None, enable_categorical=False,\n",
              "              eval_metric=None, feature_types=None, gamma=None, gpu_id=None,\n",
              "              grow_policy=None, importance_type=None,\n",
              "              interaction_constraints=None, learning_rate=0.01, max_bin=None,\n",
              "              max_cat_threshold=None, max_cat_to_onehot=None,\n",
              "              max_delta_step=None, max_depth=4, max_leaves=None,\n",
              "              min_child_weight=None, missing=nan, monotone_constraints=None,\n",
              "              n_estimators=300, n_jobs=None, num_parallel_tree=None,\n",
              "              predictor=None, random_state=None, ...)"
            ]
          },
          "execution_count": 42,
          "metadata": {},
          "output_type": "execute_result"
        }
      ],
      "source": [
        "classificador_xgb = XGBClassifier(learning_rate=0.01, n_estimators=300, max_depth=4,\n",
        "                           subsample=1, colsample_bytree=1, scale_pos_weight  = 0.68)\n",
        "\n",
        "classificador_xgb.fit(X_train, y_train)"
      ]
    },
    {
      "cell_type": "code",
      "execution_count": 43,
      "metadata": {
        "colab": {
          "base_uri": "https://localhost:8080/"
        },
        "id": "NxdFNT6JpL_-",
        "outputId": "e4e8c722-8d13-4f1d-f8f1-94248bbb6707"
      },
      "outputs": [
        {
          "name": "stdout",
          "output_type": "stream",
          "text": [
            "F1-score: 0.8101508489754308\n",
            "Roc:      0.7819135847510703\n",
            "True\n",
            "\n"
          ]
        }
      ],
      "source": [
        "def validation(model, X, y):\n",
        "\n",
        "  #leafs = [x for x in range(50, 1150, 50)]\n",
        "  best = {'f1-score': 8128509921691552,\n",
        "          'Roc': 0.7612680532922118}\n",
        "\n",
        "  f1_cv = cross_val_score(classificador_xgb, X, y, scoring='f1').mean()\n",
        "  roc_cv = cross_val_score(classificador_xgb, X, y, scoring='roc_auc').mean()\n",
        "\n",
        "  print(f'F1-score: {f1_cv}')\n",
        "  print(f'Roc:      {roc_cv}')\n",
        "  print(roc_cv >= 0.6795677301669668)\n",
        "  print()\n",
        "\n",
        "validation(classificador_xgb, X_train, y_train)\n",
        "#F1:  0.8195849725949416\n",
        "#Roc: 0.6795677301669668"
      ]
    },
    {
      "cell_type": "code",
      "execution_count": 44,
      "metadata": {
        "id": "lM2EUHh3cWU1"
      },
      "outputs": [],
      "source": [
        "predicoes_classifier = classificador_xgb.predict(X_test)"
      ]
    },
    {
      "cell_type": "code",
      "execution_count": 45,
      "metadata": {
        "id": "H3R9374RqH4Z"
      },
      "outputs": [],
      "source": [
        "parametros = {\n",
        "    \"n_estimators\": [1000, 10000],\n",
        "    \"objective\": [\"binary:logistic\", \"binary:hinge\"],\n",
        "    'tree_method':['hist'],\n",
        "    \"eta\": [0.1, 0.5],\n",
        "    \"max_depth\":[3, 8],\n",
        "}\n"
      ]
    },
    {
      "cell_type": "code",
      "execution_count": 46,
      "metadata": {
        "id": "9HI8E_VuqBVf"
      },
      "outputs": [],
      "source": [
        "y = 0\n",
        "\n",
        "if y == 1:\n",
        "\n",
        "  kfold = KFold(n_splits=5, shuffle=True, random_state=42)\n",
        "\n",
        "  grid = BayesSearchCV(classificador_xgb, search_spaces=parametros, cv=kfold, n_jobs=-1, return_train_score=True)\n",
        "\n",
        "  grid.fit(X=X_train, y=y_train)\n",
        "\n",
        "  best_param = grid.best_params_\n",
        "\n",
        "  print(best_param)"
      ]
    },
    {
      "attachments": {},
      "cell_type": "markdown",
      "metadata": {
        "id": "7MUZN3WtOetp"
      },
      "source": [
        "# Preparando submissão"
      ]
    },
    {
      "cell_type": "code",
      "execution_count": 47,
      "metadata": {
        "id": "s87WopYloeRF"
      },
      "outputs": [],
      "source": [
        "series_predicoes2 = pd.Series(predicoes_classifier, name='status_do_caso')\n",
        "#Submissao_XGB = pd.concat([id_test_guardar, series_predicoes2], axis=1)"
      ]
    },
    {
      "cell_type": "code",
      "execution_count": 48,
      "metadata": {
        "id": "C05aJdLgoE0e"
      },
      "outputs": [],
      "source": [
        "#Submissao_XGB.to_csv(\"usando_pos_weight2.csv\", index=False)\n"
      ]
    }
  ],
  "metadata": {
    "colab": {
      "collapsed_sections": [
        "8RvSMgL3U8mO"
      ],
      "provenance": []
    },
    "kernelspec": {
      "display_name": "DSvenv",
      "language": "python",
      "name": "dsvenv"
    },
    "language_info": {
      "codemirror_mode": {
        "name": "ipython",
        "version": 3
      },
      "file_extension": ".py",
      "mimetype": "text/x-python",
      "name": "python",
      "nbconvert_exporter": "python",
      "pygments_lexer": "ipython3",
      "version": "3.11.2"
    }
  },
  "nbformat": 4,
  "nbformat_minor": 0
}
