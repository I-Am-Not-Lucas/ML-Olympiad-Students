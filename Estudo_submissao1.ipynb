{
  "nbformat": 4,
  "nbformat_minor": 0,
  "metadata": {
    "colab": {
      "provenance": []
    },
    "kernelspec": {
      "name": "python3",
      "display_name": "Python 3"
    },
    "language_info": {
      "name": "python"
    }
  },
  "cells": [
    {
      "cell_type": "markdown",
      "source": [
        "<h3> Importação inical das bibliotecas"
      ],
      "metadata": {
        "id": "cfDF2eu7zbk7"
      }
    },
    {
      "cell_type": "code",
      "execution_count": 17,
      "metadata": {
        "id": "lXzJf-ryx26z"
      },
      "outputs": [],
      "source": [
        "import pandas as pd\n",
        "import numpy as np\n",
        "from sklearn.preprocessing import OrdinalEncoder"
      ]
    },
    {
      "cell_type": "code",
      "source": [
        "df_test = pd.read_csv(\"/test.csv\")\n",
        "df_train = pd.read_csv(\"/train.csv\")"
      ],
      "metadata": {
        "id": "ahWebe-6yqf_"
      },
      "execution_count": 4,
      "outputs": []
    },
    {
      "cell_type": "code",
      "source": [
        "print(df_train.shape,df_test.shape)"
      ],
      "metadata": {
        "colab": {
          "base_uri": "https://localhost:8080/"
        },
        "id": "ppm1M8IWrkY3",
        "outputId": "f7e61eb0-fbc6-45f0-ccbd-ff54222ec800"
      },
      "execution_count": 5,
      "outputs": [
        {
          "output_type": "stream",
          "name": "stdout",
          "text": [
            "(17836, 12) (7644, 11)\n"
          ]
        }
      ]
    },
    {
      "cell_type": "code",
      "source": [
        "df_train[\"status_do_caso\"].head()"
      ],
      "metadata": {
        "colab": {
          "base_uri": "https://localhost:8080/"
        },
        "id": "10lR7pp6k5OX",
        "outputId": "a1acd9c1-2799-4301-d81a-38c25a73c91f"
      },
      "execution_count": 22,
      "outputs": [
        {
          "output_type": "execute_result",
          "data": {
            "text/plain": [
              "0      Negado\n",
              "1    Aprovado\n",
              "2      Negado\n",
              "3      Negado\n",
              "4    Aprovado\n",
              "Name: status_do_caso, dtype: object"
            ]
          },
          "metadata": {},
          "execution_count": 22
        }
      ]
    },
    {
      "cell_type": "code",
      "source": [
        "df_train.sample(5)"
      ],
      "metadata": {
        "id": "uNdMo8xXQHBg"
      },
      "execution_count": null,
      "outputs": []
    },
    {
      "cell_type": "markdown",
      "source": [
        "Descobrindo as variáveis categóricas"
      ],
      "metadata": {
        "id": "1_PAVkaiVXZf"
      }
    },
    {
      "cell_type": "code",
      "source": [
        "lista_var_categoricas = [x for x in df_train.columns if df_train[x].dtypes == 'object']\n",
        "lista_var_categoricas"
      ],
      "metadata": {
        "colab": {
          "base_uri": "https://localhost:8080/"
        },
        "id": "e0zT8h04QoR4",
        "outputId": "bf5acfa5-1f13-401c-9871-d9e5098c0420"
      },
      "execution_count": 16,
      "outputs": [
        {
          "output_type": "execute_result",
          "data": {
            "text/plain": [
              "['id_do_caso',\n",
              " 'continente',\n",
              " 'educacao_do_empregado',\n",
              " 'tem_experiencia_de_trabalho',\n",
              " 'requer_treinamento_de_trabalho',\n",
              " 'regiao_de_emprego',\n",
              " 'unidade_de_salario',\n",
              " 'posicao_em_tempo_integral',\n",
              " 'status_do_caso']"
            ]
          },
          "metadata": {},
          "execution_count": 16
        }
      ]
    },
    {
      "cell_type": "code",
      "source": [
        "encoder = OrdinalEncoder()\n",
        "teste = df_train\n",
        "#encoder.fit_transform(teste[[\"status_do_caso\"]])\n",
        "#encoder.transform(teste[[\"status_do_caso\"]])\n",
        "teste[\"status_do_caso\"].unique()"
      ],
      "metadata": {
        "colab": {
          "base_uri": "https://localhost:8080/"
        },
        "id": "uZHbKvzLSBP7",
        "outputId": "06820406-de45-4e24-8b1f-0288f2f3c419"
      },
      "execution_count": 27,
      "outputs": [
        {
          "output_type": "execute_result",
          "data": {
            "text/plain": [
              "array(['Negado', 'Aprovado'], dtype=object)"
            ]
          },
          "metadata": {},
          "execution_count": 27
        }
      ]
    },
    {
      "cell_type": "code",
      "source": [
        "df_test2.to_csv(\"submissao_dummie2.csv\", index=False)\n"
      ],
      "metadata": {
        "id": "C05aJdLgoE0e"
      },
      "execution_count": null,
      "outputs": []
    }
  ]
}